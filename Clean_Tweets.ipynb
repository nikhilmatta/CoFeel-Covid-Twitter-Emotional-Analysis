{
 "cells": [
  {
   "cell_type": "code",
   "execution_count": null,
   "metadata": {
    "colab": {
     "base_uri": "https://localhost:8080/",
     "height": 34
    },
    "id": "mtp8KCKW32ND",
    "outputId": "489bbed4-8aee-4c7b-f3c8-b0e5c9256c06"
   },
   "outputs": [
    {
     "name": "stdout",
     "output_type": "stream",
     "text": [
      "gzip: *.jsonl.gz: No such file or directory\n"
     ]
    }
   ],
   "source": [
    "!gunzip *.jsonl.gz"
   ]
  },
  {
   "cell_type": "code",
   "execution_count": null,
   "metadata": {
    "id": "eOR9jtBJSLuR"
   },
   "outputs": [],
   "source": [
    "import glob\n",
    "import pandas as pd"
   ]
  },
  {
   "cell_type": "code",
   "execution_count": null,
   "metadata": {
    "id": "HAmAtEIpSNxE"
   },
   "outputs": [],
   "source": [
    "all_files = glob.glob('*.jsonl')"
   ]
  },
  {
   "cell_type": "code",
   "execution_count": null,
   "metadata": {
    "colab": {
     "base_uri": "https://localhost:8080/",
     "height": 51
    },
    "id": "27V6_UecSOgr",
    "outputId": "35a71356-f7ab-4951-e173-cf36fb69b6f4"
   },
   "outputs": [
    {
     "data": {
      "text/plain": [
       "['coronavirus-tweet-id-2020-06-26-05.jsonl',\n",
       " 'coronavirus-tweet-id-2020-06-26-10.jsonl']"
      ]
     },
     "execution_count": 6,
     "metadata": {
      "tags": []
     },
     "output_type": "execute_result"
    }
   ],
   "source": [
    "all_files"
   ]
  },
  {
   "cell_type": "code",
   "execution_count": null,
   "metadata": {
    "id": "Y97z-_xLSSC9"
   },
   "outputs": [],
   "source": [
    "li = []\n",
    "for filename in all_files:\n",
    "  df = pd.read_json(filename, lines=True)\n",
    "  li.append(df)"
   ]
  },
  {
   "cell_type": "code",
   "execution_count": null,
   "metadata": {
    "id": "cXLbx3xaSV1i"
   },
   "outputs": [],
   "source": [
    "df = pd.concat(li, axis = 0, ignore_index = True)"
   ]
  },
  {
   "cell_type": "code",
   "execution_count": null,
   "metadata": {
    "id": "FdQxB-TtSZk8"
   },
   "outputs": [],
   "source": [
    "df.reset_index(drop=True,inplace=True)"
   ]
  },
  {
   "cell_type": "code",
   "execution_count": null,
   "metadata": {
    "id": "CxjVPa-MSbU5"
   },
   "outputs": [],
   "source": [
    "#df.to_csv('feb1Tweets.csv')"
   ]
  },
  {
   "cell_type": "code",
   "execution_count": null,
   "metadata": {
    "id": "jRkFrsTtV2cf"
   },
   "outputs": [],
   "source": [
    "from datetime import datetime"
   ]
  },
  {
   "cell_type": "code",
   "execution_count": null,
   "metadata": {
    "id": "XBhNXEsXV_CJ"
   },
   "outputs": [],
   "source": [
    "df = df[['created_at','full_text','place','lang']]"
   ]
  },
  {
   "cell_type": "code",
   "execution_count": null,
   "metadata": {
    "id": "uQ-RZBLMXS2P"
   },
   "outputs": [],
   "source": [
    "bool_series = pd.notnull(df['place'])"
   ]
  },
  {
   "cell_type": "code",
   "execution_count": null,
   "metadata": {
    "id": "7rZf2f_3XUWM"
   },
   "outputs": [],
   "source": [
    "df = df[bool_series]"
   ]
  },
  {
   "cell_type": "code",
   "execution_count": null,
   "metadata": {
    "id": "ZxDBNWZBXdgn"
   },
   "outputs": [],
   "source": [
    "df.reset_index(drop=True,inplace=True)"
   ]
  },
  {
   "cell_type": "code",
   "execution_count": null,
   "metadata": {
    "id": "g8zT-ihiXeOY"
   },
   "outputs": [],
   "source": [
    "location = pd.DataFrame(df.place.tolist())"
   ]
  },
  {
   "cell_type": "code",
   "execution_count": null,
   "metadata": {
    "id": "njbyCzwrXf8h"
   },
   "outputs": [],
   "source": [
    "df['area'] = location.full_name\n",
    "df['country'] = location.country\n",
    "df['country_code'] = location.country_code"
   ]
  },
  {
   "cell_type": "code",
   "execution_count": null,
   "metadata": {
    "id": "cVg0B5x0XhbT"
   },
   "outputs": [],
   "source": [
    "df.drop(columns=['place'],inplace=True)"
   ]
  },
  {
   "cell_type": "code",
   "execution_count": null,
   "metadata": {
    "id": "NREL8G5QXjCH"
   },
   "outputs": [],
   "source": [
    "df.rename(columns={'created_at':\"date\",\"full_text\":\"tweet\"},inplace=True)"
   ]
  },
  {
   "cell_type": "code",
   "execution_count": null,
   "metadata": {
    "id": "WO5TzUVOXlk-"
   },
   "outputs": [],
   "source": [
    "import re\n",
    "from nltk.tokenize import WordPunctTokenizer\n",
    "from bs4 import BeautifulSoup\n",
    "tok = WordPunctTokenizer()\n",
    "pat1 = r'@[A-Za-z0-9]+'\n",
    "pat2 = r'https?://[A-Za-z0-9./]+'\n",
    "combined_pat = r'|'.join((pat1, pat2))\n",
    "def tweet_cleaner(text):\n",
    "    soup = BeautifulSoup(text, 'lxml')\n",
    "    souped = soup.get_text()\n",
    "    stripped = re.sub(combined_pat, '', souped)\n",
    "    try:\n",
    "        clean = stripped.decode(\"utf-8-sig\").replace(u\"\\ufffd\", \"?\")\n",
    "    except:\n",
    "        clean = stripped\n",
    "    letters_only = re.sub(\"[^a-zA-Z]\", \" \", clean)\n",
    "    lower_case = letters_only.lower()\n",
    "    words = tok.tokenize(lower_case)\n",
    "    return (\" \".join(words)).strip()"
   ]
  },
  {
   "cell_type": "code",
   "execution_count": null,
   "metadata": {
    "colab": {
     "base_uri": "https://localhost:8080/",
     "height": 819
    },
    "id": "bm2Oxm-fXl2r",
    "outputId": "c297ba10-ffd0-4f31-8834-333cfaa87dc9"
   },
   "outputs": [
    {
     "name": "stderr",
     "output_type": "stream",
     "text": [
      "/usr/local/lib/python3.6/dist-packages/bs4/__init__.py:336: UserWarning: \"https://t.co/UgQcjKpqSJ\" looks like a URL. Beautiful Soup is not an HTTP client. You should probably use an HTTP client like requests to get the document behind the URL, and feed that document to Beautiful Soup.\n",
      "  ' that document to Beautiful Soup.' % decoded_markup\n",
      "/usr/local/lib/python3.6/dist-packages/bs4/__init__.py:336: UserWarning: \"https://t.co/IBFOqhQ4Fd\" looks like a URL. Beautiful Soup is not an HTTP client. You should probably use an HTTP client like requests to get the document behind the URL, and feed that document to Beautiful Soup.\n",
      "  ' that document to Beautiful Soup.' % decoded_markup\n",
      "/usr/local/lib/python3.6/dist-packages/bs4/__init__.py:336: UserWarning: \"https://t.co/2o7d6r3tlZ\" looks like a URL. Beautiful Soup is not an HTTP client. You should probably use an HTTP client like requests to get the document behind the URL, and feed that document to Beautiful Soup.\n",
      "  ' that document to Beautiful Soup.' % decoded_markup\n",
      "/usr/local/lib/python3.6/dist-packages/bs4/__init__.py:336: UserWarning: \"https://t.co/ZIsLG9pmuu\" looks like a URL. Beautiful Soup is not an HTTP client. You should probably use an HTTP client like requests to get the document behind the URL, and feed that document to Beautiful Soup.\n",
      "  ' that document to Beautiful Soup.' % decoded_markup\n",
      "/usr/local/lib/python3.6/dist-packages/bs4/__init__.py:336: UserWarning: \"https://t.co/e4LAS5e9ae\" looks like a URL. Beautiful Soup is not an HTTP client. You should probably use an HTTP client like requests to get the document behind the URL, and feed that document to Beautiful Soup.\n",
      "  ' that document to Beautiful Soup.' % decoded_markup\n",
      "/usr/local/lib/python3.6/dist-packages/bs4/__init__.py:336: UserWarning: \"https://t.co/hmP5LcOBk2\" looks like a URL. Beautiful Soup is not an HTTP client. You should probably use an HTTP client like requests to get the document behind the URL, and feed that document to Beautiful Soup.\n",
      "  ' that document to Beautiful Soup.' % decoded_markup\n",
      "/usr/local/lib/python3.6/dist-packages/bs4/__init__.py:336: UserWarning: \"https://t.co/FZV2ErO81d\" looks like a URL. Beautiful Soup is not an HTTP client. You should probably use an HTTP client like requests to get the document behind the URL, and feed that document to Beautiful Soup.\n",
      "  ' that document to Beautiful Soup.' % decoded_markup\n",
      "/usr/local/lib/python3.6/dist-packages/bs4/__init__.py:336: UserWarning: \"https://t.co/5SfgUvnYns\" looks like a URL. Beautiful Soup is not an HTTP client. You should probably use an HTTP client like requests to get the document behind the URL, and feed that document to Beautiful Soup.\n",
      "  ' that document to Beautiful Soup.' % decoded_markup\n",
      "/usr/local/lib/python3.6/dist-packages/bs4/__init__.py:336: UserWarning: \"https://t.co/xmmSGxUhM4\" looks like a URL. Beautiful Soup is not an HTTP client. You should probably use an HTTP client like requests to get the document behind the URL, and feed that document to Beautiful Soup.\n",
      "  ' that document to Beautiful Soup.' % decoded_markup\n",
      "/usr/local/lib/python3.6/dist-packages/bs4/__init__.py:336: UserWarning: \"https://t.co/eC5pBeF8mX\" looks like a URL. Beautiful Soup is not an HTTP client. You should probably use an HTTP client like requests to get the document behind the URL, and feed that document to Beautiful Soup.\n",
      "  ' that document to Beautiful Soup.' % decoded_markup\n",
      "/usr/local/lib/python3.6/dist-packages/bs4/__init__.py:336: UserWarning: \"https://t.co/MP49xABTHJ\" looks like a URL. Beautiful Soup is not an HTTP client. You should probably use an HTTP client like requests to get the document behind the URL, and feed that document to Beautiful Soup.\n",
      "  ' that document to Beautiful Soup.' % decoded_markup\n",
      "/usr/local/lib/python3.6/dist-packages/bs4/__init__.py:336: UserWarning: \"https://t.co/BTGuxFiL7P\" looks like a URL. Beautiful Soup is not an HTTP client. You should probably use an HTTP client like requests to get the document behind the URL, and feed that document to Beautiful Soup.\n",
      "  ' that document to Beautiful Soup.' % decoded_markup\n",
      "/usr/local/lib/python3.6/dist-packages/bs4/__init__.py:336: UserWarning: \"https://t.co/Sp99jNOjFq\" looks like a URL. Beautiful Soup is not an HTTP client. You should probably use an HTTP client like requests to get the document behind the URL, and feed that document to Beautiful Soup.\n",
      "  ' that document to Beautiful Soup.' % decoded_markup\n",
      "/usr/local/lib/python3.6/dist-packages/bs4/__init__.py:336: UserWarning: \"https://t.co/R88LFf2JaG\" looks like a URL. Beautiful Soup is not an HTTP client. You should probably use an HTTP client like requests to get the document behind the URL, and feed that document to Beautiful Soup.\n",
      "  ' that document to Beautiful Soup.' % decoded_markup\n",
      "/usr/local/lib/python3.6/dist-packages/bs4/__init__.py:336: UserWarning: \"https://t.co/zQNshzkYY0\" looks like a URL. Beautiful Soup is not an HTTP client. You should probably use an HTTP client like requests to get the document behind the URL, and feed that document to Beautiful Soup.\n",
      "  ' that document to Beautiful Soup.' % decoded_markup\n",
      "/usr/local/lib/python3.6/dist-packages/bs4/__init__.py:336: UserWarning: \"https://t.co/bkk8oLTs9r\" looks like a URL. Beautiful Soup is not an HTTP client. You should probably use an HTTP client like requests to get the document behind the URL, and feed that document to Beautiful Soup.\n",
      "  ' that document to Beautiful Soup.' % decoded_markup\n",
      "/usr/local/lib/python3.6/dist-packages/bs4/__init__.py:336: UserWarning: \"https://t.co/pmfxvle0Vr\" looks like a URL. Beautiful Soup is not an HTTP client. You should probably use an HTTP client like requests to get the document behind the URL, and feed that document to Beautiful Soup.\n",
      "  ' that document to Beautiful Soup.' % decoded_markup\n",
      "/usr/local/lib/python3.6/dist-packages/bs4/__init__.py:336: UserWarning: \"https://t.co/HrGSKSroFN\" looks like a URL. Beautiful Soup is not an HTTP client. You should probably use an HTTP client like requests to get the document behind the URL, and feed that document to Beautiful Soup.\n",
      "  ' that document to Beautiful Soup.' % decoded_markup\n",
      "/usr/local/lib/python3.6/dist-packages/bs4/__init__.py:336: UserWarning: \"https://t.co/LgLYwGehff\" looks like a URL. Beautiful Soup is not an HTTP client. You should probably use an HTTP client like requests to get the document behind the URL, and feed that document to Beautiful Soup.\n",
      "  ' that document to Beautiful Soup.' % decoded_markup\n",
      "/usr/local/lib/python3.6/dist-packages/bs4/__init__.py:336: UserWarning: \"https://t.co/XSTa7GRXDg\" looks like a URL. Beautiful Soup is not an HTTP client. You should probably use an HTTP client like requests to get the document behind the URL, and feed that document to Beautiful Soup.\n",
      "  ' that document to Beautiful Soup.' % decoded_markup\n",
      "/usr/local/lib/python3.6/dist-packages/bs4/__init__.py:336: UserWarning: \"https://t.co/KU7HzgQKsM\" looks like a URL. Beautiful Soup is not an HTTP client. You should probably use an HTTP client like requests to get the document behind the URL, and feed that document to Beautiful Soup.\n",
      "  ' that document to Beautiful Soup.' % decoded_markup\n",
      "/usr/local/lib/python3.6/dist-packages/bs4/__init__.py:336: UserWarning: \"https://t.co/oK7nB5t3E2\" looks like a URL. Beautiful Soup is not an HTTP client. You should probably use an HTTP client like requests to get the document behind the URL, and feed that document to Beautiful Soup.\n",
      "  ' that document to Beautiful Soup.' % decoded_markup\n",
      "/usr/local/lib/python3.6/dist-packages/bs4/__init__.py:336: UserWarning: \"https://t.co/0Qmg3XeMgA\" looks like a URL. Beautiful Soup is not an HTTP client. You should probably use an HTTP client like requests to get the document behind the URL, and feed that document to Beautiful Soup.\n",
      "  ' that document to Beautiful Soup.' % decoded_markup\n"
     ]
    }
   ],
   "source": [
    "cleanTweets = []\n",
    "for t in df.tweet:\n",
    "    cleanTweets.append(tweet_cleaner(t))"
   ]
  },
  {
   "cell_type": "code",
   "execution_count": null,
   "metadata": {
    "id": "-zXDsJG-XuNv"
   },
   "outputs": [],
   "source": [
    "df['tweet'] = cleanTweets"
   ]
  },
  {
   "cell_type": "code",
   "execution_count": null,
   "metadata": {
    "id": "yexRPDaSXvwu"
   },
   "outputs": [],
   "source": [
    "df.drop_duplicates(inplace=True)"
   ]
  },
  {
   "cell_type": "code",
   "execution_count": null,
   "metadata": {
    "id": "HLHiUOCRalR-"
   },
   "outputs": [],
   "source": [
    "#df = df[df['tweet'].str.split().str.len().gt(5)]"
   ]
  },
  {
   "cell_type": "code",
   "execution_count": null,
   "metadata": {
    "id": "Tw-HdIzmbFwJ"
   },
   "outputs": [],
   "source": [
    "#df = df[df.lang.str.contains(\"en\")]"
   ]
  },
  {
   "cell_type": "code",
   "execution_count": null,
   "metadata": {
    "colab": {
     "base_uri": "https://localhost:8080/",
     "height": 419
    },
    "id": "iYYimvUmb8Yp",
    "outputId": "f997d004-3a1d-44cd-f601-fdbd713aa2d0"
   },
   "outputs": [
    {
     "data": {
      "text/html": [
       "<div>\n",
       "<style scoped>\n",
       "    .dataframe tbody tr th:only-of-type {\n",
       "        vertical-align: middle;\n",
       "    }\n",
       "\n",
       "    .dataframe tbody tr th {\n",
       "        vertical-align: top;\n",
       "    }\n",
       "\n",
       "    .dataframe thead th {\n",
       "        text-align: right;\n",
       "    }\n",
       "</style>\n",
       "<table border=\"1\" class=\"dataframe\">\n",
       "  <thead>\n",
       "    <tr style=\"text-align: right;\">\n",
       "      <th></th>\n",
       "      <th>date</th>\n",
       "      <th>tweet</th>\n",
       "      <th>lang</th>\n",
       "      <th>area</th>\n",
       "      <th>country</th>\n",
       "      <th>country_code</th>\n",
       "    </tr>\n",
       "  </thead>\n",
       "  <tbody>\n",
       "    <tr>\n",
       "      <th>0</th>\n",
       "      <td>2020-06-26 04:59:56+00:00</td>\n",
       "      <td>nims says sll permission taken by patanjsli gr...</td>\n",
       "      <td>en</td>\n",
       "      <td>Moradabad, India</td>\n",
       "      <td>India</td>\n",
       "      <td>IN</td>\n",
       "    </tr>\n",
       "    <tr>\n",
       "      <th>1</th>\n",
       "      <td>2020-06-26 04:59:57+00:00</td>\n",
       "      <td>you missed the point the point being so many s...</td>\n",
       "      <td>en</td>\n",
       "      <td>Edinburgh, Scotland</td>\n",
       "      <td>United Kingdom</td>\n",
       "      <td>GB</td>\n",
       "    </tr>\n",
       "    <tr>\n",
       "      <th>2</th>\n",
       "      <td>2020-06-26 04:59:58+00:00</td>\n",
       "      <td>can i hope he dies from a bee infestation in h...</td>\n",
       "      <td>en</td>\n",
       "      <td>Arvada, CO</td>\n",
       "      <td>United States</td>\n",
       "      <td>US</td>\n",
       "    </tr>\n",
       "    <tr>\n",
       "      <th>3</th>\n",
       "      <td>2020-06-26 04:59:59+00:00</td>\n",
       "      <td>kag</td>\n",
       "      <td>und</td>\n",
       "      <td>Pasadena, CA</td>\n",
       "      <td>United States</td>\n",
       "      <td>US</td>\n",
       "    </tr>\n",
       "    <tr>\n",
       "      <th>4</th>\n",
       "      <td>2020-06-26 04:59:57+00:00</td>\n",
       "      <td>globalpolitics worldwide politics political nz...</td>\n",
       "      <td>und</td>\n",
       "      <td>Auckland, New Zealand</td>\n",
       "      <td>New Zealand</td>\n",
       "      <td>NZ</td>\n",
       "    </tr>\n",
       "    <tr>\n",
       "      <th>...</th>\n",
       "      <td>...</td>\n",
       "      <td>...</td>\n",
       "      <td>...</td>\n",
       "      <td>...</td>\n",
       "      <td>...</td>\n",
       "      <td>...</td>\n",
       "    </tr>\n",
       "    <tr>\n",
       "      <th>2532</th>\n",
       "      <td>2020-06-26 10:59:44+00:00</td>\n",
       "      <td>tegen dat iedereen om welke reden dan ook zijn...</td>\n",
       "      <td>nl</td>\n",
       "      <td>Aarschot, België</td>\n",
       "      <td>Belgium</td>\n",
       "      <td>BE</td>\n",
       "    </tr>\n",
       "    <tr>\n",
       "      <th>2533</th>\n",
       "      <td>2020-06-26 10:59:45+00:00</td>\n",
       "      <td>libdems r renshaw</td>\n",
       "      <td>und</td>\n",
       "      <td>Worcester, England</td>\n",
       "      <td>United Kingdom</td>\n",
       "      <td>GB</td>\n",
       "    </tr>\n",
       "    <tr>\n",
       "      <th>2534</th>\n",
       "      <td>2020-06-26 10:59:46+00:00</td>\n",
       "      <td>wearing a mask and keeping distance as a sign ...</td>\n",
       "      <td>en</td>\n",
       "      <td>Bexley, London</td>\n",
       "      <td>United Kingdom</td>\n",
       "      <td>GB</td>\n",
       "    </tr>\n",
       "    <tr>\n",
       "      <th>2535</th>\n",
       "      <td>2020-06-26 10:59:46+00:00</td>\n",
       "      <td>this is the other face of caring and thoughtfu...</td>\n",
       "      <td>en</td>\n",
       "      <td>Edinburgh, Scotland</td>\n",
       "      <td>United Kingdom</td>\n",
       "      <td>GB</td>\n",
       "    </tr>\n",
       "    <tr>\n",
       "      <th>2536</th>\n",
       "      <td>2020-06-26 10:59:49+00:00</td>\n",
       "      <td>los enfermos por covid representan de su pobla...</td>\n",
       "      <td>es</td>\n",
       "      <td>Mendoza, Argentina</td>\n",
       "      <td>Argentina</td>\n",
       "      <td>AR</td>\n",
       "    </tr>\n",
       "  </tbody>\n",
       "</table>\n",
       "<p>2537 rows × 6 columns</p>\n",
       "</div>"
      ],
      "text/plain": [
       "                          date  ... country_code\n",
       "0    2020-06-26 04:59:56+00:00  ...           IN\n",
       "1    2020-06-26 04:59:57+00:00  ...           GB\n",
       "2    2020-06-26 04:59:58+00:00  ...           US\n",
       "3    2020-06-26 04:59:59+00:00  ...           US\n",
       "4    2020-06-26 04:59:57+00:00  ...           NZ\n",
       "...                        ...  ...          ...\n",
       "2532 2020-06-26 10:59:44+00:00  ...           BE\n",
       "2533 2020-06-26 10:59:45+00:00  ...           GB\n",
       "2534 2020-06-26 10:59:46+00:00  ...           GB\n",
       "2535 2020-06-26 10:59:46+00:00  ...           GB\n",
       "2536 2020-06-26 10:59:49+00:00  ...           AR\n",
       "\n",
       "[2537 rows x 6 columns]"
      ]
     },
     "execution_count": 26,
     "metadata": {
      "tags": []
     },
     "output_type": "execute_result"
    }
   ],
   "source": [
    "df"
   ]
  },
  {
   "cell_type": "code",
   "execution_count": null,
   "metadata": {
    "id": "M5OQh64-b87D"
   },
   "outputs": [],
   "source": [
    "df.to_csv('../juneTweets/juneTweets31.csv')"
   ]
  },
  {
   "cell_type": "code",
   "execution_count": null,
   "metadata": {
    "colab": {
     "base_uri": "https://localhost:8080/",
     "height": 595
    },
    "id": "4cGvHux3cLhL",
    "outputId": "5d047e53-bd1d-4365-c790-36b0550b9b14"
   },
   "outputs": [
    {
     "data": {
      "text/plain": [
       "en     1620\n",
       "es      217\n",
       "und     178\n",
       "in      130\n",
       "pt       85\n",
       "hi       69\n",
       "tl       40\n",
       "fr       37\n",
       "de       28\n",
       "nl       25\n",
       "it       23\n",
       "tr       22\n",
       "ja       15\n",
       "sv        8\n",
       "et        5\n",
       "th        4\n",
       "ht        4\n",
       "ru        3\n",
       "ro        3\n",
       "pl        3\n",
       "ca        2\n",
       "da        2\n",
       "ta        2\n",
       "ar        2\n",
       "cs        2\n",
       "no        1\n",
       "iw        1\n",
       "pa        1\n",
       "lt        1\n",
       "uk        1\n",
       "ml        1\n",
       "ur        1\n",
       "mr        1\n",
       "Name: lang, dtype: int64"
      ]
     },
     "execution_count": 28,
     "metadata": {
      "tags": []
     },
     "output_type": "execute_result"
    }
   ],
   "source": [
    "df.lang.value_counts()"
   ]
  },
  {
   "cell_type": "code",
   "execution_count": null,
   "metadata": {
    "colab": {
     "base_uri": "https://localhost:8080/",
     "height": 136
    },
    "id": "f8_bQGohtnJ-",
    "outputId": "119f6a75-14d5-4fdf-a63d-0b89a89a32c8"
   },
   "outputs": [
    {
     "data": {
      "text/plain": [
       "date            1620\n",
       "tweet           1620\n",
       "lang            1620\n",
       "area            1620\n",
       "country         1620\n",
       "country_code    1620\n",
       "dtype: int64"
      ]
     },
     "execution_count": 29,
     "metadata": {
      "tags": []
     },
     "output_type": "execute_result"
    }
   ],
   "source": [
    "df[.query('lang==\"en\"').count()"
   ]
  },
  {
   "cell_type": "code",
   "execution_count": null,
   "metadata": {
    "colab": {
     "base_uri": "https://localhost:8080/",
     "height": 419
    },
    "id": "8CPrYknKcTby",
    "outputId": "844cb4fc-ae9b-449f-e722-69d305e01de7"
   },
   "outputs": [
    {
     "data": {
      "text/html": [
       "<div>\n",
       "<style scoped>\n",
       "    .dataframe tbody tr th:only-of-type {\n",
       "        vertical-align: middle;\n",
       "    }\n",
       "\n",
       "    .dataframe tbody tr th {\n",
       "        vertical-align: top;\n",
       "    }\n",
       "\n",
       "    .dataframe thead th {\n",
       "        text-align: right;\n",
       "    }\n",
       "</style>\n",
       "<table border=\"1\" class=\"dataframe\">\n",
       "  <thead>\n",
       "    <tr style=\"text-align: right;\">\n",
       "      <th></th>\n",
       "      <th>date</th>\n",
       "      <th>tweet</th>\n",
       "      <th>lang</th>\n",
       "      <th>area</th>\n",
       "      <th>country</th>\n",
       "      <th>country_code</th>\n",
       "    </tr>\n",
       "  </thead>\n",
       "  <tbody>\n",
       "    <tr>\n",
       "      <th>0</th>\n",
       "      <td>2020-06-26 04:59:56+00:00</td>\n",
       "      <td>nims says sll permission taken by patanjsli gr...</td>\n",
       "      <td>en</td>\n",
       "      <td>Moradabad, India</td>\n",
       "      <td>India</td>\n",
       "      <td>IN</td>\n",
       "    </tr>\n",
       "    <tr>\n",
       "      <th>5</th>\n",
       "      <td>2020-06-26 05:00:02+00:00</td>\n",
       "      <td>carpool mumbai jaipur lock down permission ava...</td>\n",
       "      <td>en</td>\n",
       "      <td>Mumbai, India</td>\n",
       "      <td>India</td>\n",
       "      <td>IN</td>\n",
       "    </tr>\n",
       "    <tr>\n",
       "      <th>18</th>\n",
       "      <td>2020-06-26 05:00:36+00:00</td>\n",
       "      <td>word</td>\n",
       "      <td>en</td>\n",
       "      <td>Raichur, India</td>\n",
       "      <td>India</td>\n",
       "      <td>IN</td>\n",
       "    </tr>\n",
       "    <tr>\n",
       "      <th>31</th>\n",
       "      <td>2020-06-26 05:01:30+00:00</td>\n",
       "      <td>csjmuagainststudentlife promoteallstudents ups...</td>\n",
       "      <td>en</td>\n",
       "      <td>Kalyanpur Kanpur, Kanpur</td>\n",
       "      <td>India</td>\n",
       "      <td>IN</td>\n",
       "    </tr>\n",
       "    <tr>\n",
       "      <th>33</th>\n",
       "      <td>2020-06-26 05:01:33+00:00</td>\n",
       "      <td>agreed india love instagram photography mumbai...</td>\n",
       "      <td>en</td>\n",
       "      <td>Mumbai, India</td>\n",
       "      <td>India</td>\n",
       "      <td>IN</td>\n",
       "    </tr>\n",
       "    <tr>\n",
       "      <th>...</th>\n",
       "      <td>...</td>\n",
       "      <td>...</td>\n",
       "      <td>...</td>\n",
       "      <td>...</td>\n",
       "      <td>...</td>\n",
       "      <td>...</td>\n",
       "    </tr>\n",
       "    <tr>\n",
       "      <th>2486</th>\n",
       "      <td>2020-06-26 10:57:13+00:00</td>\n",
       "      <td>another covid patients have recovered and are ...</td>\n",
       "      <td>en</td>\n",
       "      <td>Cuttack, India</td>\n",
       "      <td>India</td>\n",
       "      <td>IN</td>\n",
       "    </tr>\n",
       "    <tr>\n",
       "      <th>2497</th>\n",
       "      <td>2020-06-26 10:57:39+00:00</td>\n",
       "      <td>thanks china and arvind kejriwal for gifting c...</td>\n",
       "      <td>en</td>\n",
       "      <td>New Delhi, India</td>\n",
       "      <td>India</td>\n",
       "      <td>IN</td>\n",
       "    </tr>\n",
       "    <tr>\n",
       "      <th>2508</th>\n",
       "      <td>2020-06-26 10:58:10+00:00</td>\n",
       "      <td>early lockdown was done primarily to break cha...</td>\n",
       "      <td>en</td>\n",
       "      <td>Bengaluru, India</td>\n",
       "      <td>India</td>\n",
       "      <td>IN</td>\n",
       "    </tr>\n",
       "    <tr>\n",
       "      <th>2510</th>\n",
       "      <td>2020-06-26 10:58:17+00:00</td>\n",
       "      <td>ggsipu cancel backlog and final year students ...</td>\n",
       "      <td>en</td>\n",
       "      <td>New Delhi, India</td>\n",
       "      <td>India</td>\n",
       "      <td>IN</td>\n",
       "    </tr>\n",
       "    <tr>\n",
       "      <th>2512</th>\n",
       "      <td>2020-06-26 10:58:37+00:00</td>\n",
       "      <td>total lockdown hi tihtawp a hun tawhin i hria em</td>\n",
       "      <td>en</td>\n",
       "      <td>Mizoram, India</td>\n",
       "      <td>India</td>\n",
       "      <td>IN</td>\n",
       "    </tr>\n",
       "  </tbody>\n",
       "</table>\n",
       "<p>195 rows × 6 columns</p>\n",
       "</div>"
      ],
      "text/plain": [
       "                          date  ... country_code\n",
       "0    2020-06-26 04:59:56+00:00  ...           IN\n",
       "5    2020-06-26 05:00:02+00:00  ...           IN\n",
       "18   2020-06-26 05:00:36+00:00  ...           IN\n",
       "31   2020-06-26 05:01:30+00:00  ...           IN\n",
       "33   2020-06-26 05:01:33+00:00  ...           IN\n",
       "...                        ...  ...          ...\n",
       "2486 2020-06-26 10:57:13+00:00  ...           IN\n",
       "2497 2020-06-26 10:57:39+00:00  ...           IN\n",
       "2508 2020-06-26 10:58:10+00:00  ...           IN\n",
       "2510 2020-06-26 10:58:17+00:00  ...           IN\n",
       "2512 2020-06-26 10:58:37+00:00  ...           IN\n",
       "\n",
       "[195 rows x 6 columns]"
      ]
     },
     "execution_count": 30,
     "metadata": {
      "tags": []
     },
     "output_type": "execute_result"
    }
   ],
   "source": [
    "df.query('lang==\"en\" and country_code==\"IN\"')"
   ]
  },
  {
   "cell_type": "code",
   "execution_count": null,
   "metadata": {
    "id": "hPvqkBxCbQN4"
   },
   "outputs": [],
   "source": [
    "#type(df.date.iloc[0])"
   ]
  },
  {
   "cell_type": "code",
   "execution_count": null,
   "metadata": {
    "id": "E2W0Z1s0bjK7"
   },
   "outputs": [],
   "source": [
    "#df.sort_values(by='date')"
   ]
  }
 ],
 "metadata": {
  "colab": {
   "machine_shape": "hm",
   "name": "Clean Tweets.ipynb",
   "provenance": []
  },
  "kernelspec": {
   "display_name": "Python 3",
   "language": "python",
   "name": "python3"
  },
  "language_info": {
   "codemirror_mode": {
    "name": "ipython",
    "version": 3
   },
   "file_extension": ".py",
   "mimetype": "text/x-python",
   "name": "python",
   "nbconvert_exporter": "python",
   "pygments_lexer": "ipython3",
   "version": "3.8.3"
  }
 },
 "nbformat": 4,
 "nbformat_minor": 4
}
